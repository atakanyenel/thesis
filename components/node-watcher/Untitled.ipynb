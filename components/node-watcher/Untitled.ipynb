{
 "cells": [
  {
   "cell_type": "code",
   "execution_count": 1,
   "metadata": {},
   "outputs": [
    {
     "name": "stdout",
     "output_type": "stream",
     "text": [
      "hello\n",
      "No taints\n"
     ]
    }
   ],
   "source": [
    "from kubernetes import client, config, watch\n",
    "print(\"hello\")\n",
    "config.load_kube_config()\n",
    "api = client.CoreV1Api()\n",
    "\n",
    "nodes=api.list_node()\n",
    "for i in nodes.items:\n",
    "    try:\n",
    "        for t in i.spec.taints:\n",
    "            if t.effect==\"NoSchedule\" and t.key==\"node.kubernetes.io/unreachable\":\n",
    "                api.delete_node(i.metadata.name)\n",
    "                print(\"Deleting node because it's not reachable\")\n",
    "    except TypeError:\n",
    "        print(\"No taints\")"
   ]
  },
  {
   "cell_type": "code",
   "execution_count": null,
   "metadata": {},
   "outputs": [],
   "source": []
  }
 ],
 "metadata": {
  "kernelspec": {
   "display_name": "Python 3",
   "language": "python",
   "name": "python3"
  },
  "language_info": {
   "codemirror_mode": {
    "name": "ipython",
    "version": 3
   },
   "file_extension": ".py",
   "mimetype": "text/x-python",
   "name": "python",
   "nbconvert_exporter": "python",
   "pygments_lexer": "ipython3",
   "version": "3.7.5"
  }
 },
 "nbformat": 4,
 "nbformat_minor": 2
}
