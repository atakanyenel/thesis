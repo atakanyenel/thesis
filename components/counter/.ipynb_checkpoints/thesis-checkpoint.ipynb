{
 "cells": [
  {
   "cell_type": "code",
   "execution_count": 56,
   "metadata": {},
   "outputs": [
    {
     "data": {
      "text/plain": [
       "1564954024      6\n",
       "1564954025     11\n",
       "1564954026     19\n",
       "1564954027     24\n",
       "1564954028     31\n",
       "1564954029     37\n",
       "1564954030     43\n",
       "1564954031     50\n",
       "1564954032     57\n",
       "1564954033     62\n",
       "1564954034     68\n",
       "1564954035     74\n",
       "1564954036     80\n",
       "1564954037     87\n",
       "1564954038     93\n",
       "1564954039     99\n",
       "1564954040    100\n",
       "1564954663    101\n",
       "1564954664    106\n",
       "1564954665    112\n",
       "1564954666    116\n",
       "1564954667    119\n",
       "1564954668    123\n",
       "1564954669    128\n",
       "1564954670    134\n",
       "1564954671    139\n",
       "1564954672    144\n",
       "1564954673    148\n",
       "1564954674    155\n",
       "1564954675    158\n",
       "1564954676    163\n",
       "1564954677    169\n",
       "1564954678    173\n",
       "1564954679    177\n",
       "1564954680    183\n",
       "1564954681    186\n",
       "1564954682    190\n",
       "1564954683    195\n",
       "1564954684    199\n",
       "1564954685    200\n",
       "dtype: int64"
      ]
     },
     "execution_count": 56,
     "metadata": {},
     "output_type": "execute_result"
    }
   ],
   "source": [
    "%matplotlib inline\n",
    "import pandas as pd\n",
    "from matplotlib import pyplot as plt\n",
    "import csv\n",
    "\n",
    "d={}\n",
    "index=1\n",
    "with open(\"/Users/atakanyenel/Desktop/thesis/components/counter/log.csv\",\"r\") as csvFile:\n",
    "    reader=csv.reader(csvFile)\n",
    "    for row in reader:\n",
    "        d[row[0]]=index\n",
    "        index+=1\n",
    "        rows.append(row)\n",
    "\n",
    "df=pd.Series(d)\n",
    "df"
   ]
  },
  {
   "cell_type": "code",
   "execution_count": 57,
   "metadata": {},
   "outputs": [
    {
     "data": {
      "text/plain": [
       "Text(0.5, 1.0, 'scale time')"
      ]
     },
     "execution_count": 57,
     "metadata": {},
     "output_type": "execute_result"
    },
    {
     "data": {
      "image/png": "[encoded data removed]",
      "text/plain": [
       "<Figure size 432x288 with 1 Axes>"
      ]
     },
     "metadata": {
      "needs_background": "light"
     },
     "output_type": "display_data"
    }
   ],
   "source": [
    "df.plot()\n",
    "plt.xlabel(\"seconds\")\n",
    "plt.ylabel(\"# of requests\")\n",
    "plt.title(\"scale time\")"
   ]
  },
  {
   "cell_type": "code",
   "execution_count": null,
   "metadata": {},
   "outputs": [],
   "source": [
    "def create_graph(path):\n",
    "    d={}\n",
    "    index=1\n",
    "    with open(path,\"r\") as csvFile:\n",
    "        reader=csv.reader(csvFile)\n",
    "        for row in reader:\n",
    "            d[row[0]]=index\n",
    "            index+=1\n",
    "            rows.append(row)\n",
    "\n",
    "    df=pd.Series(d)\n",
    "    df.plot()\n",
    "    plt.xlabel(\"seconds\")\n",
    "    plt.ylabel(\"# of requests\")\n",
    "    plt.title(\"scale time\")"
   ]
  },
  {
   "cell_type": "code",
   "execution_count": null,
   "metadata": {},
   "outputs": [],
   "source": []
  }
 ],
 "metadata": {
  "kernelspec": {
   "display_name": "Python 3",
   "language": "python",
   "name": "python3"
  },
  "language_info": {
   "codemirror_mode": {
    "name": "ipython",
    "version": 3
   },
   "file_extension": ".py",
   "mimetype": "text/x-python",
   "name": "python",
   "nbconvert_exporter": "python",
   "pygments_lexer": "ipython3",
   "version": "3.7.4"
  }
 },
 "nbformat": 4,
 "nbformat_minor": 2
}
